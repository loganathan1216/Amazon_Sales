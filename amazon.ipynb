{
 "cells": [
  {
   "cell_type": "code",
   "execution_count": 21,
   "id": "bcff3d1a",
   "metadata": {
    "ExecuteTime": {
     "end_time": "2024-06-07T08:00:43.231450Z",
     "start_time": "2024-06-07T08:00:39.560922Z"
    }
   },
   "outputs": [],
   "source": [
    "import pandas as pd\n",
    "import matplotlib.pyplot as plt\n",
    "import seaborn as sns"
   ]
  },
  {
   "cell_type": "code",
   "execution_count": 4,
   "id": "cc4ee069",
   "metadata": {
    "ExecuteTime": {
     "end_time": "2024-06-07T07:52:30.068953Z",
     "start_time": "2024-06-07T07:52:28.970689Z"
    }
   },
   "outputs": [
    {
     "data": {
      "text/html": [
       "<div>\n",
       "<style scoped>\n",
       "    .dataframe tbody tr th:only-of-type {\n",
       "        vertical-align: middle;\n",
       "    }\n",
       "\n",
       "    .dataframe tbody tr th {\n",
       "        vertical-align: top;\n",
       "    }\n",
       "\n",
       "    .dataframe thead th {\n",
       "        text-align: right;\n",
       "    }\n",
       "</style>\n",
       "<table border=\"1\" class=\"dataframe\">\n",
       "  <thead>\n",
       "    <tr style=\"text-align: right;\">\n",
       "      <th></th>\n",
       "      <th>index</th>\n",
       "      <th>Order ID</th>\n",
       "      <th>Date</th>\n",
       "      <th>Status</th>\n",
       "      <th>Fulfilment</th>\n",
       "      <th>Sales Channel</th>\n",
       "      <th>ship-service-level</th>\n",
       "      <th>Category</th>\n",
       "      <th>Size</th>\n",
       "      <th>Courier Status</th>\n",
       "      <th>...</th>\n",
       "      <th>currency</th>\n",
       "      <th>Amount</th>\n",
       "      <th>ship-city</th>\n",
       "      <th>ship-state</th>\n",
       "      <th>ship-postal-code</th>\n",
       "      <th>ship-country</th>\n",
       "      <th>B2B</th>\n",
       "      <th>fulfilled-by</th>\n",
       "      <th>New</th>\n",
       "      <th>PendingS</th>\n",
       "    </tr>\n",
       "  </thead>\n",
       "  <tbody>\n",
       "    <tr>\n",
       "      <th>0</th>\n",
       "      <td>0</td>\n",
       "      <td>405-8078784-5731545</td>\n",
       "      <td>04-30-22</td>\n",
       "      <td>Cancelled</td>\n",
       "      <td>Merchant</td>\n",
       "      <td>Amazon.in</td>\n",
       "      <td>Standard</td>\n",
       "      <td>T-shirt</td>\n",
       "      <td>S</td>\n",
       "      <td>On the Way</td>\n",
       "      <td>...</td>\n",
       "      <td>INR</td>\n",
       "      <td>647.62</td>\n",
       "      <td>MUMBAI</td>\n",
       "      <td>MAHARASHTRA</td>\n",
       "      <td>400081.0</td>\n",
       "      <td>IN</td>\n",
       "      <td>False</td>\n",
       "      <td>Easy Ship</td>\n",
       "      <td>NaN</td>\n",
       "      <td>NaN</td>\n",
       "    </tr>\n",
       "    <tr>\n",
       "      <th>1</th>\n",
       "      <td>1</td>\n",
       "      <td>171-9198151-1101146</td>\n",
       "      <td>04-30-22</td>\n",
       "      <td>Shipped - Delivered to Buyer</td>\n",
       "      <td>Merchant</td>\n",
       "      <td>Amazon.in</td>\n",
       "      <td>Standard</td>\n",
       "      <td>Shirt</td>\n",
       "      <td>3XL</td>\n",
       "      <td>Shipped</td>\n",
       "      <td>...</td>\n",
       "      <td>INR</td>\n",
       "      <td>406.00</td>\n",
       "      <td>BENGALURU</td>\n",
       "      <td>KARNATAKA</td>\n",
       "      <td>560085.0</td>\n",
       "      <td>IN</td>\n",
       "      <td>False</td>\n",
       "      <td>Easy Ship</td>\n",
       "      <td>NaN</td>\n",
       "      <td>NaN</td>\n",
       "    </tr>\n",
       "    <tr>\n",
       "      <th>2</th>\n",
       "      <td>2</td>\n",
       "      <td>404-0687676-7273146</td>\n",
       "      <td>04-30-22</td>\n",
       "      <td>Shipped</td>\n",
       "      <td>Amazon</td>\n",
       "      <td>Amazon.in</td>\n",
       "      <td>Expedited</td>\n",
       "      <td>Shirt</td>\n",
       "      <td>XL</td>\n",
       "      <td>Shipped</td>\n",
       "      <td>...</td>\n",
       "      <td>INR</td>\n",
       "      <td>329.00</td>\n",
       "      <td>NAVI MUMBAI</td>\n",
       "      <td>MAHARASHTRA</td>\n",
       "      <td>410210.0</td>\n",
       "      <td>IN</td>\n",
       "      <td>True</td>\n",
       "      <td>NaN</td>\n",
       "      <td>NaN</td>\n",
       "      <td>NaN</td>\n",
       "    </tr>\n",
       "    <tr>\n",
       "      <th>3</th>\n",
       "      <td>3</td>\n",
       "      <td>403-9615377-8133951</td>\n",
       "      <td>04-30-22</td>\n",
       "      <td>Cancelled</td>\n",
       "      <td>Merchant</td>\n",
       "      <td>Amazon.in</td>\n",
       "      <td>Standard</td>\n",
       "      <td>Blazzer</td>\n",
       "      <td>L</td>\n",
       "      <td>On the Way</td>\n",
       "      <td>...</td>\n",
       "      <td>INR</td>\n",
       "      <td>753.33</td>\n",
       "      <td>PUDUCHERRY</td>\n",
       "      <td>PUDUCHERRY</td>\n",
       "      <td>605008.0</td>\n",
       "      <td>IN</td>\n",
       "      <td>False</td>\n",
       "      <td>Easy Ship</td>\n",
       "      <td>NaN</td>\n",
       "      <td>NaN</td>\n",
       "    </tr>\n",
       "    <tr>\n",
       "      <th>4</th>\n",
       "      <td>4</td>\n",
       "      <td>407-1069790-7240320</td>\n",
       "      <td>04-30-22</td>\n",
       "      <td>Shipped</td>\n",
       "      <td>Amazon</td>\n",
       "      <td>Amazon.in</td>\n",
       "      <td>Expedited</td>\n",
       "      <td>Trousers</td>\n",
       "      <td>3XL</td>\n",
       "      <td>Shipped</td>\n",
       "      <td>...</td>\n",
       "      <td>INR</td>\n",
       "      <td>574.00</td>\n",
       "      <td>CHENNAI</td>\n",
       "      <td>TAMIL NADU</td>\n",
       "      <td>600073.0</td>\n",
       "      <td>IN</td>\n",
       "      <td>False</td>\n",
       "      <td>NaN</td>\n",
       "      <td>NaN</td>\n",
       "      <td>NaN</td>\n",
       "    </tr>\n",
       "    <tr>\n",
       "      <th>...</th>\n",
       "      <td>...</td>\n",
       "      <td>...</td>\n",
       "      <td>...</td>\n",
       "      <td>...</td>\n",
       "      <td>...</td>\n",
       "      <td>...</td>\n",
       "      <td>...</td>\n",
       "      <td>...</td>\n",
       "      <td>...</td>\n",
       "      <td>...</td>\n",
       "      <td>...</td>\n",
       "      <td>...</td>\n",
       "      <td>...</td>\n",
       "      <td>...</td>\n",
       "      <td>...</td>\n",
       "      <td>...</td>\n",
       "      <td>...</td>\n",
       "      <td>...</td>\n",
       "      <td>...</td>\n",
       "      <td>...</td>\n",
       "      <td>...</td>\n",
       "    </tr>\n",
       "    <tr>\n",
       "      <th>128971</th>\n",
       "      <td>128970</td>\n",
       "      <td>406-6001380-7673107</td>\n",
       "      <td>05-31-22</td>\n",
       "      <td>Shipped</td>\n",
       "      <td>Amazon</td>\n",
       "      <td>Amazon.in</td>\n",
       "      <td>Expedited</td>\n",
       "      <td>Shirt</td>\n",
       "      <td>XL</td>\n",
       "      <td>Shipped</td>\n",
       "      <td>...</td>\n",
       "      <td>INR</td>\n",
       "      <td>517.00</td>\n",
       "      <td>HYDERABAD</td>\n",
       "      <td>TELANGANA</td>\n",
       "      <td>500013.0</td>\n",
       "      <td>IN</td>\n",
       "      <td>False</td>\n",
       "      <td>NaN</td>\n",
       "      <td>NaN</td>\n",
       "      <td>NaN</td>\n",
       "    </tr>\n",
       "    <tr>\n",
       "      <th>128972</th>\n",
       "      <td>128971</td>\n",
       "      <td>402-9551604-7544318</td>\n",
       "      <td>05-31-22</td>\n",
       "      <td>Shipped</td>\n",
       "      <td>Amazon</td>\n",
       "      <td>Amazon.in</td>\n",
       "      <td>Expedited</td>\n",
       "      <td>T-shirt</td>\n",
       "      <td>M</td>\n",
       "      <td>Shipped</td>\n",
       "      <td>...</td>\n",
       "      <td>INR</td>\n",
       "      <td>999.00</td>\n",
       "      <td>GURUGRAM</td>\n",
       "      <td>HARYANA</td>\n",
       "      <td>122004.0</td>\n",
       "      <td>IN</td>\n",
       "      <td>False</td>\n",
       "      <td>NaN</td>\n",
       "      <td>NaN</td>\n",
       "      <td>NaN</td>\n",
       "    </tr>\n",
       "    <tr>\n",
       "      <th>128973</th>\n",
       "      <td>128972</td>\n",
       "      <td>407-9547469-3152358</td>\n",
       "      <td>05-31-22</td>\n",
       "      <td>Shipped</td>\n",
       "      <td>Amazon</td>\n",
       "      <td>Amazon.in</td>\n",
       "      <td>Expedited</td>\n",
       "      <td>Blazzer</td>\n",
       "      <td>XXL</td>\n",
       "      <td>Shipped</td>\n",
       "      <td>...</td>\n",
       "      <td>INR</td>\n",
       "      <td>690.00</td>\n",
       "      <td>HYDERABAD</td>\n",
       "      <td>TELANGANA</td>\n",
       "      <td>500049.0</td>\n",
       "      <td>IN</td>\n",
       "      <td>False</td>\n",
       "      <td>NaN</td>\n",
       "      <td>NaN</td>\n",
       "      <td>NaN</td>\n",
       "    </tr>\n",
       "    <tr>\n",
       "      <th>128974</th>\n",
       "      <td>128973</td>\n",
       "      <td>402-6184140-0545956</td>\n",
       "      <td>05-31-22</td>\n",
       "      <td>Shipped</td>\n",
       "      <td>Amazon</td>\n",
       "      <td>Amazon.in</td>\n",
       "      <td>Expedited</td>\n",
       "      <td>T-shirt</td>\n",
       "      <td>XS</td>\n",
       "      <td>Shipped</td>\n",
       "      <td>...</td>\n",
       "      <td>INR</td>\n",
       "      <td>1199.00</td>\n",
       "      <td>Halol</td>\n",
       "      <td>Gujarat</td>\n",
       "      <td>389350.0</td>\n",
       "      <td>IN</td>\n",
       "      <td>False</td>\n",
       "      <td>NaN</td>\n",
       "      <td>NaN</td>\n",
       "      <td>NaN</td>\n",
       "    </tr>\n",
       "    <tr>\n",
       "      <th>128975</th>\n",
       "      <td>128974</td>\n",
       "      <td>408-7436540-8728312</td>\n",
       "      <td>05-31-22</td>\n",
       "      <td>Shipped</td>\n",
       "      <td>Amazon</td>\n",
       "      <td>Amazon.in</td>\n",
       "      <td>Expedited</td>\n",
       "      <td>T-shirt</td>\n",
       "      <td>S</td>\n",
       "      <td>Shipped</td>\n",
       "      <td>...</td>\n",
       "      <td>INR</td>\n",
       "      <td>696.00</td>\n",
       "      <td>Raipur</td>\n",
       "      <td>CHHATTISGARH</td>\n",
       "      <td>492014.0</td>\n",
       "      <td>IN</td>\n",
       "      <td>False</td>\n",
       "      <td>NaN</td>\n",
       "      <td>NaN</td>\n",
       "      <td>NaN</td>\n",
       "    </tr>\n",
       "  </tbody>\n",
       "</table>\n",
       "<p>128976 rows × 21 columns</p>\n",
       "</div>"
      ],
      "text/plain": [
       "         index             Order ID      Date                        Status  \\\n",
       "0            0  405-8078784-5731545  04-30-22                     Cancelled   \n",
       "1            1  171-9198151-1101146  04-30-22  Shipped - Delivered to Buyer   \n",
       "2            2  404-0687676-7273146  04-30-22                       Shipped   \n",
       "3            3  403-9615377-8133951  04-30-22                     Cancelled   \n",
       "4            4  407-1069790-7240320  04-30-22                       Shipped   \n",
       "...        ...                  ...       ...                           ...   \n",
       "128971  128970  406-6001380-7673107  05-31-22                       Shipped   \n",
       "128972  128971  402-9551604-7544318  05-31-22                       Shipped   \n",
       "128973  128972  407-9547469-3152358  05-31-22                       Shipped   \n",
       "128974  128973  402-6184140-0545956  05-31-22                       Shipped   \n",
       "128975  128974  408-7436540-8728312  05-31-22                       Shipped   \n",
       "\n",
       "       Fulfilment Sales Channel ship-service-level  Category Size  \\\n",
       "0        Merchant     Amazon.in           Standard   T-shirt    S   \n",
       "1        Merchant     Amazon.in           Standard     Shirt  3XL   \n",
       "2          Amazon     Amazon.in          Expedited     Shirt   XL   \n",
       "3        Merchant     Amazon.in           Standard   Blazzer    L   \n",
       "4          Amazon     Amazon.in          Expedited  Trousers  3XL   \n",
       "...           ...           ...                ...       ...  ...   \n",
       "128971     Amazon     Amazon.in          Expedited     Shirt   XL   \n",
       "128972     Amazon     Amazon.in          Expedited   T-shirt    M   \n",
       "128973     Amazon     Amazon.in          Expedited   Blazzer  XXL   \n",
       "128974     Amazon     Amazon.in          Expedited   T-shirt   XS   \n",
       "128975     Amazon     Amazon.in          Expedited   T-shirt    S   \n",
       "\n",
       "       Courier Status  ...  currency   Amount    ship-city    ship-state  \\\n",
       "0          On the Way  ...       INR   647.62       MUMBAI   MAHARASHTRA   \n",
       "1             Shipped  ...       INR   406.00    BENGALURU     KARNATAKA   \n",
       "2             Shipped  ...       INR   329.00  NAVI MUMBAI   MAHARASHTRA   \n",
       "3          On the Way  ...       INR   753.33   PUDUCHERRY    PUDUCHERRY   \n",
       "4             Shipped  ...       INR   574.00      CHENNAI    TAMIL NADU   \n",
       "...               ...  ...       ...      ...          ...           ...   \n",
       "128971        Shipped  ...       INR   517.00    HYDERABAD     TELANGANA   \n",
       "128972        Shipped  ...       INR   999.00     GURUGRAM       HARYANA   \n",
       "128973        Shipped  ...       INR   690.00    HYDERABAD     TELANGANA   \n",
       "128974        Shipped  ...       INR  1199.00        Halol       Gujarat   \n",
       "128975        Shipped  ...       INR   696.00       Raipur  CHHATTISGARH   \n",
       "\n",
       "       ship-postal-code  ship-country    B2B  fulfilled-by New  PendingS  \n",
       "0              400081.0            IN  False     Easy Ship NaN       NaN  \n",
       "1              560085.0            IN  False     Easy Ship NaN       NaN  \n",
       "2              410210.0            IN   True           NaN NaN       NaN  \n",
       "3              605008.0            IN  False     Easy Ship NaN       NaN  \n",
       "4              600073.0            IN  False           NaN NaN       NaN  \n",
       "...                 ...           ...    ...           ...  ..       ...  \n",
       "128971         500013.0            IN  False           NaN NaN       NaN  \n",
       "128972         122004.0            IN  False           NaN NaN       NaN  \n",
       "128973         500049.0            IN  False           NaN NaN       NaN  \n",
       "128974         389350.0            IN  False           NaN NaN       NaN  \n",
       "128975         492014.0            IN  False           NaN NaN       NaN  \n",
       "\n",
       "[128976 rows x 21 columns]"
      ]
     },
     "execution_count": 4,
     "metadata": {},
     "output_type": "execute_result"
    }
   ],
   "source": [
    "df=pd.read_csv(\"AmazonSaleReport.csv\")\n",
    "df"
   ]
  },
  {
   "cell_type": "code",
   "execution_count": 5,
   "id": "eeef8b53",
   "metadata": {
    "ExecuteTime": {
     "end_time": "2024-06-07T07:52:44.979172Z",
     "start_time": "2024-06-07T07:52:44.891701Z"
    }
   },
   "outputs": [
    {
     "data": {
      "text/html": [
       "<div>\n",
       "<style scoped>\n",
       "    .dataframe tbody tr th:only-of-type {\n",
       "        vertical-align: middle;\n",
       "    }\n",
       "\n",
       "    .dataframe tbody tr th {\n",
       "        vertical-align: top;\n",
       "    }\n",
       "\n",
       "    .dataframe thead th {\n",
       "        text-align: right;\n",
       "    }\n",
       "</style>\n",
       "<table border=\"1\" class=\"dataframe\">\n",
       "  <thead>\n",
       "    <tr style=\"text-align: right;\">\n",
       "      <th></th>\n",
       "      <th>index</th>\n",
       "      <th>Qty</th>\n",
       "      <th>Amount</th>\n",
       "      <th>ship-postal-code</th>\n",
       "      <th>New</th>\n",
       "      <th>PendingS</th>\n",
       "    </tr>\n",
       "  </thead>\n",
       "  <tbody>\n",
       "    <tr>\n",
       "      <th>count</th>\n",
       "      <td>128976.000000</td>\n",
       "      <td>128976.000000</td>\n",
       "      <td>121176.000000</td>\n",
       "      <td>128941.000000</td>\n",
       "      <td>0.0</td>\n",
       "      <td>0.0</td>\n",
       "    </tr>\n",
       "    <tr>\n",
       "      <th>mean</th>\n",
       "      <td>64486.130427</td>\n",
       "      <td>0.904401</td>\n",
       "      <td>648.562176</td>\n",
       "      <td>463945.677744</td>\n",
       "      <td>NaN</td>\n",
       "      <td>NaN</td>\n",
       "    </tr>\n",
       "    <tr>\n",
       "      <th>std</th>\n",
       "      <td>37232.897832</td>\n",
       "      <td>0.313368</td>\n",
       "      <td>281.185041</td>\n",
       "      <td>191458.488954</td>\n",
       "      <td>NaN</td>\n",
       "      <td>NaN</td>\n",
       "    </tr>\n",
       "    <tr>\n",
       "      <th>min</th>\n",
       "      <td>0.000000</td>\n",
       "      <td>0.000000</td>\n",
       "      <td>0.000000</td>\n",
       "      <td>110001.000000</td>\n",
       "      <td>NaN</td>\n",
       "      <td>NaN</td>\n",
       "    </tr>\n",
       "    <tr>\n",
       "      <th>25%</th>\n",
       "      <td>32242.750000</td>\n",
       "      <td>1.000000</td>\n",
       "      <td>449.000000</td>\n",
       "      <td>382421.000000</td>\n",
       "      <td>NaN</td>\n",
       "      <td>NaN</td>\n",
       "    </tr>\n",
       "    <tr>\n",
       "      <th>50%</th>\n",
       "      <td>64486.500000</td>\n",
       "      <td>1.000000</td>\n",
       "      <td>605.000000</td>\n",
       "      <td>500033.000000</td>\n",
       "      <td>NaN</td>\n",
       "      <td>NaN</td>\n",
       "    </tr>\n",
       "    <tr>\n",
       "      <th>75%</th>\n",
       "      <td>96730.250000</td>\n",
       "      <td>1.000000</td>\n",
       "      <td>788.000000</td>\n",
       "      <td>600024.000000</td>\n",
       "      <td>NaN</td>\n",
       "      <td>NaN</td>\n",
       "    </tr>\n",
       "    <tr>\n",
       "      <th>max</th>\n",
       "      <td>128974.000000</td>\n",
       "      <td>15.000000</td>\n",
       "      <td>5584.000000</td>\n",
       "      <td>989898.000000</td>\n",
       "      <td>NaN</td>\n",
       "      <td>NaN</td>\n",
       "    </tr>\n",
       "  </tbody>\n",
       "</table>\n",
       "</div>"
      ],
      "text/plain": [
       "               index            Qty         Amount  ship-postal-code  New  \\\n",
       "count  128976.000000  128976.000000  121176.000000     128941.000000  0.0   \n",
       "mean    64486.130427       0.904401     648.562176     463945.677744  NaN   \n",
       "std     37232.897832       0.313368     281.185041     191458.488954  NaN   \n",
       "min         0.000000       0.000000       0.000000     110001.000000  NaN   \n",
       "25%     32242.750000       1.000000     449.000000     382421.000000  NaN   \n",
       "50%     64486.500000       1.000000     605.000000     500033.000000  NaN   \n",
       "75%     96730.250000       1.000000     788.000000     600024.000000  NaN   \n",
       "max    128974.000000      15.000000    5584.000000     989898.000000  NaN   \n",
       "\n",
       "       PendingS  \n",
       "count       0.0  \n",
       "mean        NaN  \n",
       "std         NaN  \n",
       "min         NaN  \n",
       "25%         NaN  \n",
       "50%         NaN  \n",
       "75%         NaN  \n",
       "max         NaN  "
      ]
     },
     "execution_count": 5,
     "metadata": {},
     "output_type": "execute_result"
    }
   ],
   "source": [
    "df.describe()"
   ]
  },
  {
   "cell_type": "code",
   "execution_count": 9,
   "id": "2e94d40f",
   "metadata": {
    "ExecuteTime": {
     "end_time": "2024-06-07T07:53:19.560736Z",
     "start_time": "2024-06-07T07:53:19.525450Z"
    }
   },
   "outputs": [],
   "source": [
    "df['Date']=pd.to_datetime(df['Date'])"
   ]
  },
  {
   "cell_type": "code",
   "execution_count": 8,
   "id": "15de15c7",
   "metadata": {
    "ExecuteTime": {
     "end_time": "2024-06-07T07:53:12.738685Z",
     "start_time": "2024-06-07T07:53:12.618726Z"
    }
   },
   "outputs": [
    {
     "data": {
      "text/plain": [
       "index                      0\n",
       "Order ID                   0\n",
       "Date                       0\n",
       "Status                     0\n",
       "Fulfilment                 0\n",
       "Sales Channel              0\n",
       "ship-service-level         0\n",
       "Category                   0\n",
       "Size                       0\n",
       "Courier Status             0\n",
       "Qty                        0\n",
       "currency                7800\n",
       "Amount                  7800\n",
       "ship-city                 35\n",
       "ship-state                35\n",
       "ship-postal-code          35\n",
       "ship-country              35\n",
       "B2B                        0\n",
       "fulfilled-by           89713\n",
       "New                   128976\n",
       "PendingS              128976\n",
       "dtype: int64"
      ]
     },
     "execution_count": 8,
     "metadata": {},
     "output_type": "execute_result"
    }
   ],
   "source": [
    "df.isnull().sum()"
   ]
  },
  {
   "cell_type": "code",
   "execution_count": 54,
   "id": "0673f2f9",
   "metadata": {
    "ExecuteTime": {
     "end_time": "2024-06-07T07:06:21.861782Z",
     "start_time": "2024-06-07T07:06:21.726689Z"
    }
   },
   "outputs": [
    {
     "data": {
      "text/plain": [
       "index                 0.0\n",
       "Order ID              0.0\n",
       "Date                  0.0\n",
       "Status                0.0\n",
       "Fulfilment            0.0\n",
       "Sales Channel         0.0\n",
       "ship-service-level    0.0\n",
       "Category              0.0\n",
       "Size                  0.0\n",
       "Courier Status        0.0\n",
       "Qty                   0.0\n",
       "currency              0.0\n",
       "Amount                0.0\n",
       "ship-city             0.0\n",
       "ship-state            0.0\n",
       "ship-postal-code      0.0\n",
       "ship-country          0.0\n",
       "B2B                   0.0\n",
       "Month                 0.0\n",
       "dtype: float64"
      ]
     },
     "execution_count": 54,
     "metadata": {},
     "output_type": "execute_result"
    }
   ],
   "source": [
    "df.isnull().sum()/len(df)"
   ]
  },
  {
   "cell_type": "code",
   "execution_count": 10,
   "id": "a91a4598",
   "metadata": {
    "ExecuteTime": {
     "end_time": "2024-06-07T07:53:26.918012Z",
     "start_time": "2024-06-07T07:53:26.874371Z"
    }
   },
   "outputs": [],
   "source": [
    "#columns new,pendings and fulfilled-by are having more the 50% of null values so deleted those columns\n",
    "\n",
    "df.drop(columns=['New','PendingS'],inplace=True)"
   ]
  },
  {
   "cell_type": "code",
   "execution_count": 11,
   "id": "f7c3894a",
   "metadata": {
    "ExecuteTime": {
     "end_time": "2024-06-07T07:53:29.708763Z",
     "start_time": "2024-06-07T07:53:29.666862Z"
    }
   },
   "outputs": [],
   "source": [
    "df.drop(columns=['fulfilled-by'],inplace=True)"
   ]
  },
  {
   "cell_type": "code",
   "execution_count": 12,
   "id": "51fe925f",
   "metadata": {
    "ExecuteTime": {
     "end_time": "2024-06-07T07:53:37.491973Z",
     "start_time": "2024-06-07T07:53:37.097448Z"
    }
   },
   "outputs": [
    {
     "data": {
      "text/plain": [
       "168"
      ]
     },
     "execution_count": 12,
     "metadata": {},
     "output_type": "execute_result"
    }
   ],
   "source": [
    "df.duplicated().sum() "
   ]
  },
  {
   "cell_type": "code",
   "execution_count": 13,
   "id": "af2b5a6d",
   "metadata": {
    "ExecuteTime": {
     "end_time": "2024-06-07T07:53:40.414725Z",
     "start_time": "2024-06-07T07:53:39.967836Z"
    }
   },
   "outputs": [],
   "source": [
    "# 168 duplicates was deleted.\n",
    "df.drop_duplicates(inplace=True)"
   ]
  },
  {
   "cell_type": "code",
   "execution_count": 14,
   "id": "e0717dc0",
   "metadata": {
    "ExecuteTime": {
     "end_time": "2024-06-07T07:53:43.596559Z",
     "start_time": "2024-06-07T07:53:43.413961Z"
    }
   },
   "outputs": [],
   "source": [
    "#dropping the rows which the columns having less than 6% of missing values\n",
    "\n",
    "df.dropna(inplace=True)"
   ]
  },
  {
   "cell_type": "code",
   "execution_count": 55,
   "id": "980beef6",
   "metadata": {
    "ExecuteTime": {
     "end_time": "2024-06-07T07:07:46.468385Z",
     "start_time": "2024-06-07T07:07:46.444152Z"
    }
   },
   "outputs": [
    {
     "data": {
      "text/plain": [
       "Date\n",
       "2022-03-31     101683.85\n",
       "2022-04-01     865478.60\n",
       "2022-04-02     913101.53\n",
       "2022-04-03    1011763.38\n",
       "2022-04-04     882059.17\n",
       "                 ...    \n",
       "2022-06-25     654234.58\n",
       "2022-06-26     773610.02\n",
       "2022-06-27     714124.67\n",
       "2022-06-28     772085.53\n",
       "2022-06-29     411530.76\n",
       "Name: Amount, Length: 91, dtype: float64"
      ]
     },
     "execution_count": 55,
     "metadata": {},
     "output_type": "execute_result"
    }
   ],
   "source": [
    "#Sales Overview\n",
    "\n",
    "\n",
    "daily_sales=df.groupby('Date')['Amount'].sum()\n",
    "daily_sales"
   ]
  },
  {
   "cell_type": "code",
   "execution_count": 56,
   "id": "818f5cfc",
   "metadata": {
    "ExecuteTime": {
     "end_time": "2024-06-07T07:07:51.298380Z",
     "start_time": "2024-06-07T07:07:50.157223Z"
    }
   },
   "outputs": [
    {
     "data": {
      "text/plain": [
       "Text(0, 0.5, 'Amount')"
      ]
     },
     "execution_count": 56,
     "metadata": {},
     "output_type": "execute_result"
    },
    {
     "data": {
      "image/png": "[encoded data removed]",
      "text/plain": [
       "<Figure size 640x480 with 1 Axes>"
      ]
     },
     "metadata": {},
     "output_type": "display_data"
    }
   ],
   "source": [
    "daily_sales.plot()\n",
    "plt.title(\"Daily sales\")\n",
    "plt.xlabel(\"Date\")\n",
    "plt.ylabel('Amount')"
   ]
  },
  {
   "cell_type": "code",
   "execution_count": 57,
   "id": "c894e339",
   "metadata": {
    "ExecuteTime": {
     "end_time": "2024-06-07T07:07:54.867059Z",
     "start_time": "2024-06-07T07:07:54.852293Z"
    }
   },
   "outputs": [
    {
     "data": {
      "text/plain": [
       "0         4\n",
       "1         4\n",
       "2         4\n",
       "3         4\n",
       "4         4\n",
       "         ..\n",
       "128971    5\n",
       "128972    5\n",
       "128973    5\n",
       "128974    5\n",
       "128975    5\n",
       "Name: Month, Length: 120988, dtype: int32"
      ]
     },
     "execution_count": 57,
     "metadata": {},
     "output_type": "execute_result"
    }
   ],
   "source": [
    "df['Month']=df['Date'].dt.month\n",
    "df['Month']"
   ]
  },
  {
   "cell_type": "code",
   "execution_count": null,
   "id": "c1262fab",
   "metadata": {
    "ExecuteTime": {
     "end_time": "2024-06-07T07:07:58.076061Z",
     "start_time": "2024-06-07T07:07:57.591482Z"
    }
   },
   "outputs": [],
   "source": [
    "monthly_sales=df.groupby('Month')['Amount'].sum()\n",
    "monthly_sales.plot()\n",
    "plt.title(\"Monthly sales\")\n",
    "plt.xlabel(\"Date\")\n",
    "plt.ylabel('Amount')"
   ]
  },
  {
   "cell_type": "markdown",
   "id": "f300595d",
   "metadata": {},
   "source": [
    "#### * Daily and monthly sales show varying trends, with peaks and troughs throughout the observed period.\n",
    "#### * Monthly sales peaked in April and gradually declined through May and June."
   ]
  },
  {
   "cell_type": "markdown",
   "id": "affb1019",
   "metadata": {},
   "source": [
    "##### Product Analysis:Analyze the distribution of product categories, sizes, and quantities sold to idendtify popular products."
   ]
  },
  {
   "cell_type": "code",
   "execution_count": 60,
   "id": "54734c67",
   "metadata": {
    "ExecuteTime": {
     "end_time": "2024-06-07T07:15:07.098554Z",
     "start_time": "2024-06-07T07:15:07.068170Z"
    }
   },
   "outputs": [
    {
     "data": {
      "text/plain": [
       "Category\n",
       "T-shirt     46969\n",
       "Shirt       46628\n",
       "Blazzer     14693\n",
       "Trousers    10149\n",
       "Perfume      1091\n",
       "Wallet        881\n",
       "Socks         419\n",
       "Shoes         155\n",
       "Watch           3\n",
       "Name: count, dtype: int64"
      ]
     },
     "execution_count": 60,
     "metadata": {},
     "output_type": "execute_result"
    }
   ],
   "source": [
    "df['Category'].value_counts()"
   ]
  },
  {
   "cell_type": "code",
   "execution_count": 61,
   "id": "650a4268",
   "metadata": {
    "ExecuteTime": {
     "end_time": "2024-06-07T07:16:12.684700Z",
     "start_time": "2024-06-07T07:16:12.657171Z"
    }
   },
   "outputs": [
    {
     "data": {
      "text/plain": [
       "Size\n",
       "M       20942\n",
       "L       20452\n",
       "XL      19391\n",
       "XXL     16764\n",
       "S       15624\n",
       "3XL     13869\n",
       "XS      10179\n",
       "Free     2130\n",
       "6XL       705\n",
       "5XL       526\n",
       "4XL       406\n",
       "Name: count, dtype: int64"
      ]
     },
     "execution_count": 61,
     "metadata": {},
     "output_type": "execute_result"
    }
   ],
   "source": [
    "df['Size'].value_counts()"
   ]
  },
  {
   "cell_type": "code",
   "execution_count": 62,
   "id": "b4ce41e9",
   "metadata": {
    "ExecuteTime": {
     "end_time": "2024-06-07T07:16:47.020825Z",
     "start_time": "2024-06-07T07:16:46.992615Z"
    }
   },
   "outputs": [
    {
     "data": {
      "text/plain": [
       "Category\n",
       "Blazzer     13929\n",
       "Perfume      1051\n",
       "Shirt       44889\n",
       "Shoes         152\n",
       "Socks         397\n",
       "T-shirt     45153\n",
       "Trousers     9883\n",
       "Wallet        844\n",
       "Watch           3\n",
       "Name: Qty, dtype: int64"
      ]
     },
     "execution_count": 62,
     "metadata": {},
     "output_type": "execute_result"
    }
   ],
   "source": [
    "df.groupby('Category')['Qty'].sum()\n",
    "\n",
    "# popular products are T-shirt and Shirt"
   ]
  },
  {
   "cell_type": "markdown",
   "id": "050a6545",
   "metadata": {},
   "source": [
    "#### * Popular Products: T-shirts and Shirts are the most popular categories in terms of both sales quantity and revenue.\n",
    "#### * Sizes: Medium (M) and Large (L) sizes are the most frequently sold"
   ]
  },
  {
   "cell_type": "markdown",
   "id": "a8e7dfc5",
   "metadata": {},
   "source": [
    "##### Fulfillment Analysis: Investigate the fulfillment methods used and their effectiveness in delivering orders."
   ]
  },
  {
   "cell_type": "code",
   "execution_count": 63,
   "id": "8bfc2a68",
   "metadata": {
    "ExecuteTime": {
     "end_time": "2024-06-07T07:27:57.944463Z",
     "start_time": "2024-06-07T07:27:57.909111Z"
    }
   },
   "outputs": [
    {
     "data": {
      "text/plain": [
       "Fulfilment\n",
       "Amazon      83524\n",
       "Merchant    37464\n",
       "Name: count, dtype: int64"
      ]
     },
     "execution_count": 63,
     "metadata": {},
     "output_type": "execute_result"
    }
   ],
   "source": [
    "df['Fulfilment'].value_counts()"
   ]
  },
  {
   "cell_type": "code",
   "execution_count": 64,
   "id": "42525092",
   "metadata": {
    "ExecuteTime": {
     "end_time": "2024-06-07T07:29:30.501017Z",
     "start_time": "2024-06-07T07:29:30.468150Z"
    }
   },
   "outputs": [
    {
     "data": {
      "text/plain": [
       "Courier Status\n",
       "Shipped       109315\n",
       "Unshipped       6549\n",
       "On the Way      5124\n",
       "Name: count, dtype: int64"
      ]
     },
     "execution_count": 64,
     "metadata": {},
     "output_type": "execute_result"
    }
   ],
   "source": [
    "df['Courier Status'].value_counts()"
   ]
  },
  {
   "cell_type": "code",
   "execution_count": 16,
   "id": "a5923488",
   "metadata": {
    "ExecuteTime": {
     "end_time": "2024-06-07T07:56:25.246824Z",
     "start_time": "2024-06-07T07:56:25.186734Z"
    }
   },
   "outputs": [
    {
     "data": {
      "text/plain": [
       "Courier Status\n",
       "On the Way    0.000000\n",
       "Shipped       0.262544\n",
       "Unshipped     0.000000\n",
       "Name: Status, dtype: float64"
      ]
     },
     "execution_count": 16,
     "metadata": {},
     "output_type": "execute_result"
    }
   ],
   "source": [
    "a=df.groupby('Courier Status')['Status'].apply(lambda x: (x == 'Shipped - Delivered to Buyer').sum() / len(x))\n",
    "a"
   ]
  },
  {
   "cell_type": "code",
   "execution_count": 23,
   "id": "7e918fec",
   "metadata": {
    "ExecuteTime": {
     "end_time": "2024-06-07T08:01:20.854073Z",
     "start_time": "2024-06-07T08:01:20.393432Z"
    }
   },
   "outputs": [
    {
     "data": {
      "text/plain": [
       "<Axes: xlabel='Courier Status'>"
      ]
     },
     "execution_count": 23,
     "metadata": {},
     "output_type": "execute_result"
    },
    {
     "data": {
      "image/png": "[encoded data removed]",
      "text/plain": [
       "<Figure size 640x480 with 1 Axes>"
      ]
     },
     "metadata": {},
     "output_type": "display_data"
    }
   ],
   "source": [
    "sns.barplot(x=a.index,y=a.values)"
   ]
  },
  {
   "cell_type": "markdown",
   "id": "eed44dde",
   "metadata": {},
   "source": [
    "#### * Majority of orders are fulfilled by Amazon.\n",
    "#### * Most orders are shipped and delivered, with a small percentage remaining unshipped."
   ]
  },
  {
   "cell_type": "markdown",
   "id": "f92a52bd",
   "metadata": {},
   "source": [
    "##### Customer Segmentation: Segment customers based on their buying behaviour, location, and other relevant factors."
   ]
  },
  {
   "cell_type": "code",
   "execution_count": 25,
   "id": "98c2b7a3",
   "metadata": {
    "ExecuteTime": {
     "end_time": "2024-06-07T08:34:10.689064Z",
     "start_time": "2024-06-07T08:34:10.564271Z"
    }
   },
   "outputs": [
    {
     "data": {
      "text/html": [
       "<div>\n",
       "<style scoped>\n",
       "    .dataframe tbody tr th:only-of-type {\n",
       "        vertical-align: middle;\n",
       "    }\n",
       "\n",
       "    .dataframe tbody tr th {\n",
       "        vertical-align: top;\n",
       "    }\n",
       "\n",
       "    .dataframe thead th {\n",
       "        text-align: right;\n",
       "    }\n",
       "</style>\n",
       "<table border=\"1\" class=\"dataframe\">\n",
       "  <thead>\n",
       "    <tr style=\"text-align: right;\">\n",
       "      <th></th>\n",
       "      <th>ship-city</th>\n",
       "      <th>ship-state</th>\n",
       "      <th>ship-country</th>\n",
       "      <th>Order Count</th>\n",
       "    </tr>\n",
       "  </thead>\n",
       "  <tbody>\n",
       "    <tr>\n",
       "      <th>0</th>\n",
       "      <td>(Chikmagalur disterict).     (N.R pur thaluku)</td>\n",
       "      <td>KARNATAKA</td>\n",
       "      <td>IN</td>\n",
       "      <td>1</td>\n",
       "    </tr>\n",
       "    <tr>\n",
       "      <th>1</th>\n",
       "      <td>(Via Cuncolim)Quepem,South Goa</td>\n",
       "      <td>GOA</td>\n",
       "      <td>IN</td>\n",
       "      <td>1</td>\n",
       "    </tr>\n",
       "    <tr>\n",
       "      <th>2</th>\n",
       "      <td>,HYDERABAD</td>\n",
       "      <td>TELANGANA</td>\n",
       "      <td>IN</td>\n",
       "      <td>1</td>\n",
       "    </tr>\n",
       "    <tr>\n",
       "      <th>3</th>\n",
       "      <td>,raibarely road faizabad (Ayodhya)</td>\n",
       "      <td>UTTAR PRADESH</td>\n",
       "      <td>IN</td>\n",
       "      <td>1</td>\n",
       "    </tr>\n",
       "    <tr>\n",
       "      <th>4</th>\n",
       "      <td>..katra</td>\n",
       "      <td>JAMMU &amp; KASHMIR</td>\n",
       "      <td>IN</td>\n",
       "      <td>1</td>\n",
       "    </tr>\n",
       "    <tr>\n",
       "      <th>...</th>\n",
       "      <td>...</td>\n",
       "      <td>...</td>\n",
       "      <td>...</td>\n",
       "      <td>...</td>\n",
       "    </tr>\n",
       "    <tr>\n",
       "      <th>8880</th>\n",
       "      <td>yavatmal</td>\n",
       "      <td>MAHARASHTRA</td>\n",
       "      <td>IN</td>\n",
       "      <td>1</td>\n",
       "    </tr>\n",
       "    <tr>\n",
       "      <th>8881</th>\n",
       "      <td>yazali</td>\n",
       "      <td>ARUNACHAL PRADESH</td>\n",
       "      <td>IN</td>\n",
       "      <td>1</td>\n",
       "    </tr>\n",
       "    <tr>\n",
       "      <th>8882</th>\n",
       "      <td>yellapur</td>\n",
       "      <td>KARNATAKA</td>\n",
       "      <td>IN</td>\n",
       "      <td>1</td>\n",
       "    </tr>\n",
       "    <tr>\n",
       "      <th>8883</th>\n",
       "      <td>zirakpur</td>\n",
       "      <td>PUNJAB</td>\n",
       "      <td>IN</td>\n",
       "      <td>1</td>\n",
       "    </tr>\n",
       "    <tr>\n",
       "      <th>8884</th>\n",
       "      <td>������������</td>\n",
       "      <td>UTTAR PRADESH</td>\n",
       "      <td>IN</td>\n",
       "      <td>2</td>\n",
       "    </tr>\n",
       "  </tbody>\n",
       "</table>\n",
       "<p>8885 rows × 4 columns</p>\n",
       "</div>"
      ],
      "text/plain": [
       "                                           ship-city         ship-state  \\\n",
       "0     (Chikmagalur disterict).     (N.R pur thaluku)          KARNATAKA   \n",
       "1                     (Via Cuncolim)Quepem,South Goa                GOA   \n",
       "2                                         ,HYDERABAD          TELANGANA   \n",
       "3                 ,raibarely road faizabad (Ayodhya)      UTTAR PRADESH   \n",
       "4                                            ..katra    JAMMU & KASHMIR   \n",
       "...                                              ...                ...   \n",
       "8880                                        yavatmal        MAHARASHTRA   \n",
       "8881                                          yazali  ARUNACHAL PRADESH   \n",
       "8882                                        yellapur          KARNATAKA   \n",
       "8883                                        zirakpur             PUNJAB   \n",
       "8884                                    ������������      UTTAR PRADESH   \n",
       "\n",
       "     ship-country  Order Count  \n",
       "0              IN            1  \n",
       "1              IN            1  \n",
       "2              IN            1  \n",
       "3              IN            1  \n",
       "4              IN            1  \n",
       "...           ...          ...  \n",
       "8880           IN            1  \n",
       "8881           IN            1  \n",
       "8882           IN            1  \n",
       "8883           IN            1  \n",
       "8884           IN            2  \n",
       "\n",
       "[8885 rows x 4 columns]"
      ]
     },
     "execution_count": 25,
     "metadata": {},
     "output_type": "execute_result"
    }
   ],
   "source": [
    "customer_segments = df.groupby(['ship-city', 'ship-state', 'ship-country']).size().reset_index(name='Order Count')\n",
    "\n",
    "customer_segments\n"
   ]
  },
  {
   "cell_type": "code",
   "execution_count": 27,
   "id": "b63d8cbd",
   "metadata": {
    "ExecuteTime": {
     "end_time": "2024-06-07T08:34:27.618337Z",
     "start_time": "2024-06-07T08:34:27.589431Z"
    }
   },
   "outputs": [],
   "source": [
    "\n",
    "category_segments = df.groupby('Category')['Qty'].sum().reset_index(name='Total Quantity Sold')"
   ]
  },
  {
   "cell_type": "code",
   "execution_count": 28,
   "id": "a463fc1d",
   "metadata": {
    "ExecuteTime": {
     "end_time": "2024-06-07T08:34:30.454497Z",
     "start_time": "2024-06-07T08:34:30.439212Z"
    }
   },
   "outputs": [
    {
     "data": {
      "text/html": [
       "<div>\n",
       "<style scoped>\n",
       "    .dataframe tbody tr th:only-of-type {\n",
       "        vertical-align: middle;\n",
       "    }\n",
       "\n",
       "    .dataframe tbody tr th {\n",
       "        vertical-align: top;\n",
       "    }\n",
       "\n",
       "    .dataframe thead th {\n",
       "        text-align: right;\n",
       "    }\n",
       "</style>\n",
       "<table border=\"1\" class=\"dataframe\">\n",
       "  <thead>\n",
       "    <tr style=\"text-align: right;\">\n",
       "      <th></th>\n",
       "      <th>Category</th>\n",
       "      <th>Total Quantity Sold</th>\n",
       "    </tr>\n",
       "  </thead>\n",
       "  <tbody>\n",
       "    <tr>\n",
       "      <th>0</th>\n",
       "      <td>Blazzer</td>\n",
       "      <td>13929</td>\n",
       "    </tr>\n",
       "    <tr>\n",
       "      <th>1</th>\n",
       "      <td>Perfume</td>\n",
       "      <td>1051</td>\n",
       "    </tr>\n",
       "    <tr>\n",
       "      <th>2</th>\n",
       "      <td>Shirt</td>\n",
       "      <td>44889</td>\n",
       "    </tr>\n",
       "    <tr>\n",
       "      <th>3</th>\n",
       "      <td>Shoes</td>\n",
       "      <td>152</td>\n",
       "    </tr>\n",
       "    <tr>\n",
       "      <th>4</th>\n",
       "      <td>Socks</td>\n",
       "      <td>397</td>\n",
       "    </tr>\n",
       "    <tr>\n",
       "      <th>5</th>\n",
       "      <td>T-shirt</td>\n",
       "      <td>45153</td>\n",
       "    </tr>\n",
       "    <tr>\n",
       "      <th>6</th>\n",
       "      <td>Trousers</td>\n",
       "      <td>9883</td>\n",
       "    </tr>\n",
       "    <tr>\n",
       "      <th>7</th>\n",
       "      <td>Wallet</td>\n",
       "      <td>844</td>\n",
       "    </tr>\n",
       "    <tr>\n",
       "      <th>8</th>\n",
       "      <td>Watch</td>\n",
       "      <td>3</td>\n",
       "    </tr>\n",
       "  </tbody>\n",
       "</table>\n",
       "</div>"
      ],
      "text/plain": [
       "   Category  Total Quantity Sold\n",
       "0   Blazzer                13929\n",
       "1   Perfume                 1051\n",
       "2     Shirt                44889\n",
       "3     Shoes                  152\n",
       "4     Socks                  397\n",
       "5   T-shirt                45153\n",
       "6  Trousers                 9883\n",
       "7    Wallet                  844\n",
       "8     Watch                    3"
      ]
     },
     "execution_count": 28,
     "metadata": {},
     "output_type": "execute_result"
    }
   ],
   "source": [
    "category_segments"
   ]
  },
  {
   "cell_type": "markdown",
   "id": "e7642052",
   "metadata": {},
   "source": [
    "##### Geographical Analysis: Explore the geographical distribution of sales, focusing on states and cities."
   ]
  },
  {
   "cell_type": "code",
   "execution_count": 30,
   "id": "a58fc579",
   "metadata": {
    "ExecuteTime": {
     "end_time": "2024-06-07T08:40:04.240039Z",
     "start_time": "2024-06-07T08:40:04.229031Z"
    }
   },
   "outputs": [
    {
     "data": {
      "text/plain": [
       "ship-state\n",
       "MAHARASHTRA               21048\n",
       "KARNATAKA                 16364\n",
       "TAMIL NADU                10796\n",
       "TELANGANA                 10626\n",
       "UTTAR PRADESH              9943\n",
       "                          ...  \n",
       "Mizoram                       1\n",
       "rajsthan                      1\n",
       "Punjab/Mohali/Zirakpur        1\n",
       "Rajsthan                      1\n",
       "PB                            1\n",
       "Name: count, Length: 68, dtype: int64"
      ]
     },
     "execution_count": 30,
     "metadata": {},
     "output_type": "execute_result"
    }
   ],
   "source": [
    "state=df['ship-state'].value_counts()\n",
    "state"
   ]
  },
  {
   "cell_type": "code",
   "execution_count": 31,
   "id": "1245745a",
   "metadata": {
    "ExecuteTime": {
     "end_time": "2024-06-07T08:40:32.539210Z",
     "start_time": "2024-06-07T08:40:32.194912Z"
    }
   },
   "outputs": [
    {
     "data": {
      "text/plain": [
       "<Axes: xlabel='ship-state'>"
      ]
     },
     "execution_count": 31,
     "metadata": {},
     "output_type": "execute_result"
    },
    {
     "data": {
      "image/png": "[encoded data removed]",
      "text/plain": [
       "<Figure size 640x480 with 1 Axes>"
      ]
     },
     "metadata": {},
     "output_type": "display_data"
    }
   ],
   "source": [
    "sns.barplot(x=state.index,y=state.values)"
   ]
  },
  {
   "cell_type": "code",
   "execution_count": 33,
   "id": "be496069",
   "metadata": {
    "ExecuteTime": {
     "end_time": "2024-06-07T08:41:26.463135Z",
     "start_time": "2024-06-07T08:41:26.445409Z"
    }
   },
   "outputs": [
    {
     "data": {
      "text/plain": [
       "ship-city\n",
       "BENGALURU                           10659\n",
       "HYDERABAD                            7599\n",
       "MUMBAI                               5856\n",
       "NEW DELHI                            5439\n",
       "CHENNAI                              5130\n",
       "                                    ...  \n",
       "Mettur, Salem                           1\n",
       "Irakasandra                             1\n",
       "Caranzalem - Tiswadi                    1\n",
       "Venjarammoodu,thiruvananthapuram        1\n",
       "Halol                                   1\n",
       "Name: count, Length: 8697, dtype: int64"
      ]
     },
     "execution_count": 33,
     "metadata": {},
     "output_type": "execute_result"
    }
   ],
   "source": [
    "city=df['ship-city'].value_counts()\n",
    "city\n"
   ]
  },
  {
   "cell_type": "markdown",
   "id": "749514bb",
   "metadata": {
    "ExecuteTime": {
     "end_time": "2024-06-07T08:44:03.304657Z",
     "start_time": "2024-06-07T08:42:59.227587Z"
    }
   },
   "source": [
    "#### * States: Maharashtra, Karnataka, and Tamil Nadu are the top states in terms of sales volume.\n",
    "#### * Cities: Bengaluru, Hyderabad, and Mumbai are the cities with the highest number of orders."
   ]
  },
  {
   "cell_type": "markdown",
   "id": "908bbbc4",
   "metadata": {},
   "source": [
    "Recommendation\n",
    "\n",
    "Sales Strategies:\n",
    "\n",
    "Promotions: Offer discounts or bundle deals on T-shirts and Shirts to boost sales.\n",
    "\n",
    "Targeted Marketing: Use targeted advertising campaigns on social media and search engines, focusing on popular product categories and high-sales cities.\n",
    "Inventory Management:\n",
    "\n",
    "Demand Forecasting: Implement predictive analytics to better anticipate demand for different sizes and categories.\n",
    "Stock Optimization: Adjust inventory levels to ensure availability of popular products and sizes, especially during peak sales periods.\n",
    "Customer Service:\n",
    "\n",
    "Delivery Optimization: Collaborate with Amazon to streamline shipping and delivery processes further to reduce unshipped orders.\n",
    "Feedback Mechanism: Implement a customer feedback system to monitor and improve delivery satisfaction."
   ]
  },
  {
   "cell_type": "markdown",
   "id": "b3ef2dd3",
   "metadata": {},
   "source": [
    "conclusion:\n",
    "    The analysis of your Amazon sales report reveals clear opportunities to optimize sales strategies and enhance customer satisfaction. Focusing on popular products like T-shirts and Shirts, targeting promotions during peak sales periods, and improving delivery efficiency are recommended. By leveraging these insights and recommendations, your business can drive revenue growth and maintain competitive advantage in the e-commerce market."
   ]
  }
 ],
 "metadata": {
  "kernelspec": {
   "display_name": "Python 3 (ipykernel)",
   "language": "python",
   "name": "python3"
  },
  "language_info": {
   "codemirror_mode": {
    "name": "ipython",
    "version": 3
   },
   "file_extension": ".py",
   "mimetype": "text/x-python",
   "name": "python",
   "nbconvert_exporter": "python",
   "pygments_lexer": "ipython3",
   "version": "3.11.5"
  },
  "varInspector": {
   "cols": {
    "lenName": 16,
    "lenType": 16,
    "lenVar": 40
   },
   "kernels_config": {
    "python": {
     "delete_cmd_postfix": "",
     "delete_cmd_prefix": "del ",
     "library": "var_list.py",
     "varRefreshCmd": "print(var_dic_list())"
    },
    "r": {
     "delete_cmd_postfix": ") ",
     "delete_cmd_prefix": "rm(",
     "library": "var_list.r",
     "varRefreshCmd": "cat(var_dic_list()) "
    }
   },
   "types_to_exclude": [
    "module",
    "function",
    "builtin_function_or_method",
    "instance",
    "_Feature"
   ],
   "window_display": false
  }
 },
 "nbformat": 4,
 "nbformat_minor": 5
}
